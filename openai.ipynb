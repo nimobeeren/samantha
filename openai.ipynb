{
 "cells": [
  {
   "cell_type": "code",
   "execution_count": 2,
   "metadata": {},
   "outputs": [
    {
     "data": {
      "text/plain": [
       "True"
      ]
     },
     "execution_count": 2,
     "metadata": {},
     "output_type": "execute_result"
    }
   ],
   "source": [
    "from dotenv import load_dotenv\n",
    "load_dotenv()"
   ]
  },
  {
   "cell_type": "markdown",
   "metadata": {},
   "source": [
    "Real-time playback"
   ]
  },
  {
   "cell_type": "code",
   "execution_count": 3,
   "metadata": {},
   "outputs": [],
   "source": [
    "import os\n",
    "import wave\n",
    "from time import sleep\n",
    "\n",
    "import pyaudio\n",
    "import requests\n",
    "\n",
    "\n",
    "def say(input):\n",
    "    url = \"https://api.openai.com/v1/audio/speech\"\n",
    "    headers = {\n",
    "        \"Authorization\": f'Bearer {os.getenv(\"OPENAI_API_KEY\")}',\n",
    "    }\n",
    "\n",
    "    data = {\n",
    "        \"model\": \"tts-1\",\n",
    "        \"input\": input,\n",
    "        \"voice\": \"shimmer\",\n",
    "        \"response_format\": \"wav\",\n",
    "    }\n",
    "\n",
    "    response = requests.post(url, headers=headers, json=data, stream=True)\n",
    "\n",
    "    if response.ok:\n",
    "        with wave.open(response.raw, \"rb\") as wf:\n",
    "\n",
    "            def callback(in_data, frame_count, time_info, status):\n",
    "                data = wf.readframes(frame_count)\n",
    "                # If len(data) is less than requested frame_count, PyAudio automatically\n",
    "                # assumes the stream is finished, and the stream stops.\n",
    "                return (data, pyaudio.paContinue)\n",
    "\n",
    "            p = pyaudio.PyAudio()\n",
    "            stream = p.open(\n",
    "                format=p.get_format_from_width(wf.getsampwidth()),\n",
    "                channels=wf.getnchannels(),\n",
    "                rate=wf.getframerate(),\n",
    "                output=True,\n",
    "                stream_callback=callback,\n",
    "            )\n",
    "\n",
    "            # Wait for stream to finish\n",
    "            while stream.is_active():\n",
    "                sleep(1)\n",
    "            stream.close()\n",
    "            p.terminate()\n",
    "    else:\n",
    "        response.raise_for_status()"
   ]
  },
  {
   "cell_type": "code",
   "execution_count": 14,
   "metadata": {},
   "outputs": [],
   "source": [
    "say(\"This is a test of the speech synthesis API\")"
   ]
  }
 ],
 "metadata": {
  "kernelspec": {
   "display_name": "Python 3",
   "language": "python",
   "name": "python3"
  },
  "language_info": {
   "codemirror_mode": {
    "name": "ipython",
    "version": 3
   },
   "file_extension": ".py",
   "mimetype": "text/x-python",
   "name": "python",
   "nbconvert_exporter": "python",
   "pygments_lexer": "ipython3",
   "version": "3.11.6"
  }
 },
 "nbformat": 4,
 "nbformat_minor": 2
}
