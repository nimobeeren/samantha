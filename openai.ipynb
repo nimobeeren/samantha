{
 "cells": [
  {
   "cell_type": "code",
   "execution_count": 2,
   "metadata": {},
   "outputs": [
    {
     "data": {
      "text/plain": [
       "True"
      ]
     },
     "execution_count": 2,
     "metadata": {},
     "output_type": "execute_result"
    }
   ],
   "source": [
    "from dotenv import load_dotenv\n",
    "load_dotenv()"
   ]
  },
  {
   "cell_type": "markdown",
   "metadata": {},
   "source": [
    "### Direct REST call"
   ]
  },
  {
   "cell_type": "markdown",
   "metadata": {},
   "source": [
    "Write stream to `.wav` file"
   ]
  },
  {
   "cell_type": "code",
   "execution_count": 4,
   "metadata": {},
   "outputs": [],
   "source": [
    "import os\n",
    "import requests\n",
    "import io\n",
    "import wave\n",
    "import pyaudio\n",
    "\n",
    "url = \"https://api.openai.com/v1/audio/speech\"\n",
    "headers = {\n",
    "    \"Authorization\": f'Bearer {os.getenv(\"OPENAI_API_KEY\")}',\n",
    "}\n",
    "\n",
    "data = {\n",
    "    \"model\": \"tts-1\",\n",
    "    \"input\": \"This is a test of the speech synthesis API\",\n",
    "    \"voice\": \"shimmer\",\n",
    "    \"response_format\": \"wav\",\n",
    "}\n",
    "\n",
    "response = requests.post(url, headers=headers, json=data, stream=True)\n",
    "if response.status_code == 200:\n",
    "    buffer = io.BytesIO()\n",
    "    for chunk in response.iter_content(chunk_size=1024):\n",
    "        buffer.write(chunk)\n",
    "\n",
    "with open(\"speech.wav\", \"wb\") as f:\n",
    "    f.write(buffer.getvalue())"
   ]
  },
  {
   "cell_type": "markdown",
   "metadata": {},
   "source": [
    "Analyze `.wav` file"
   ]
  },
  {
   "cell_type": "code",
   "execution_count": 11,
   "metadata": {},
   "outputs": [
    {
     "name": "stdout",
     "output_type": "stream",
     "text": [
      "format 8\n",
      "channels 1\n",
      "rate 24000\n"
     ]
    }
   ],
   "source": [
    "with wave.open('speech.wav', 'rb') as wf:\n",
    "    p = pyaudio.PyAudio()\n",
    "\n",
    "    print('format', p.get_format_from_width(wf.getsampwidth()))\n",
    "    print('channels', wf.getnchannels())\n",
    "    print('rate', wf.getframerate())"
   ]
  },
  {
   "cell_type": "markdown",
   "metadata": {},
   "source": [
    "Play `.wav` file"
   ]
  },
  {
   "cell_type": "code",
   "execution_count": 5,
   "metadata": {},
   "outputs": [
    {
     "name": "stdout",
     "output_type": "stream",
     "text": [
      "format 8\n",
      "channels 1\n",
      "rate 24000\n"
     ]
    }
   ],
   "source": [
    "import wave\n",
    "import pyaudio\n",
    "\n",
    "CHUNK_SIZE = 1024\n",
    "\n",
    "with wave.open('speech.wav', 'rb') as wf:\n",
    "    # Instantiate PyAudio and initialize PortAudio system resources (1)\n",
    "    p = pyaudio.PyAudio()\n",
    "\n",
    "    print('format', p.get_format_from_width(wf.getsampwidth()))\n",
    "    print('channels', wf.getnchannels())\n",
    "    print('rate', wf.getframerate())\n",
    "\n",
    "    # Open stream (2)\n",
    "    stream = p.open(format=p.get_format_from_width(wf.getsampwidth()),\n",
    "                    channels=wf.getnchannels(),\n",
    "                    rate=wf.getframerate(),\n",
    "                    output=True)\n",
    "\n",
    "    # Play samples from the wave file (3)\n",
    "    while len(data := wf.readframes(CHUNK_SIZE)):  # Requires Python 3.8+ for :=\n",
    "        stream.write(data)\n",
    "\n",
    "    # Close stream (4)\n",
    "    stream.close()\n",
    "\n",
    "    # Release PortAudio system resources (5)\n",
    "    p.terminate()"
   ]
  },
  {
   "cell_type": "markdown",
   "metadata": {},
   "source": [
    "Real-time playback"
   ]
  },
  {
   "cell_type": "code",
   "execution_count": 14,
   "metadata": {},
   "outputs": [],
   "source": [
    "import requests\n",
    "import os\n",
    "import pyaudio\n",
    "from time import sleep\n",
    "\n",
    "url = \"https://api.openai.com/v1/audio/speech\"\n",
    "headers = {\n",
    "    \"Authorization\": f'Bearer {os.getenv(\"OPENAI_API_KEY\")}',\n",
    "}\n",
    "\n",
    "data = {\n",
    "    \"model\": \"tts-1\",\n",
    "    \"input\": \"This is a test of the speech synthesis API\",\n",
    "    \"voice\": \"shimmer\",\n",
    "    \"response_format\": \"wav\",\n",
    "}\n",
    "\n",
    "response = requests.post(url, headers=headers, json=data, stream=True)\n",
    "\n",
    "\n",
    "# Author: @aaronepperly\n",
    "\n",
    "my_buffer = bytes()                 # \"my_buffer\" gets loaded up from the http stream\n",
    "my_1024 = bytes()                    # when \"my_buffer\" has enough, it gets sliced off into \"my_1024\"\n",
    "\n",
    "if response.status_code == 200:\n",
    "\tp = pyaudio.PyAudio()\n",
    "\tis_first_chunk = True\n",
    "\tstream = p.open(format=8, channels=1, rate=24000, output=True)\n",
    "\tfor chunk in response.iter_content(chunk_size=1024):\n",
    "\t\tif is_first_chunk:                                     # skip the header\n",
    "\t\t\tis_first_chunk = False\n",
    "\t\t\tcontinue\n",
    "\t\tmy_buffer += chunk\n",
    "\t\tif len(my_buffer) >= 1024:\n",
    "\t\t\tmy_1024 = my_buffer[0:1024]\n",
    "\t\t\tmy_buffer = my_buffer[1024:]\n",
    "\t\tif len(my_1024):\n",
    "\t\t\tstream.write(my_1024)\n",
    "\t\t\tmy_1024 = bytes()\n",
    "\tif len(my_buffer):                                           # Whatever is left in my_buffer, because it will likely\n",
    "\t\tstream.write(my_buffer)                    # be less than 1024 samples long\n",
    "\tsleep(1)\n",
    "\tstream.close()\n",
    "\tp.terminate()"
   ]
  },
  {
   "cell_type": "code",
   "execution_count": 20,
   "metadata": {},
   "outputs": [],
   "source": [
    "import os\n",
    "import requests\n",
    "from time import sleep\n",
    "import pyaudio\n",
    "import wave\n",
    "\n",
    "url = \"https://api.openai.com/v1/audio/speech\"\n",
    "headers = {\n",
    "    \"Authorization\": f'Bearer {os.getenv(\"OPENAI_API_KEY\")}',\n",
    "}\n",
    "\n",
    "data = {\n",
    "    \"model\": \"tts-1\",\n",
    "    \"input\": \"For longer inputs, there may be some noise which is caused by variable chunk sizes\",\n",
    "    \"voice\": \"shimmer\",\n",
    "    \"response_format\": \"wav\",\n",
    "}\n",
    "\n",
    "response = requests.post(\n",
    "    \"https://api.openai.com/v1/audio/speech\", headers=headers, json=data, stream=True\n",
    ")\n",
    "\n",
    "CHUNK_SIZE = 1024\n",
    "\n",
    "if response.ok:\n",
    "    with wave.open(response.raw, \"rb\") as wf:\n",
    "        # Define callback for playback (1)\n",
    "        def callback(in_data, frame_count, time_info, status):\n",
    "            data = wf.readframes(frame_count)\n",
    "            # If len(data) is less than requested frame_count, PyAudio automatically\n",
    "            # assumes the stream is finished, and the stream stops.\n",
    "            return (data, pyaudio.paContinue)\n",
    "\n",
    "        # Instantiate PyAudio and initialize PortAudio system resources (2)\n",
    "        p = pyaudio.PyAudio()\n",
    "\n",
    "        # Open stream using callback (3)\n",
    "        stream = p.open(\n",
    "            format=p.get_format_from_width(wf.getsampwidth()),\n",
    "            channels=wf.getnchannels(),\n",
    "            rate=wf.getframerate(),\n",
    "            output=True,\n",
    "            stream_callback=callback,\n",
    "        )\n",
    "\n",
    "        # Wait for stream to finish (4)\n",
    "        while stream.is_active():\n",
    "            sleep(0.1)\n",
    "\n",
    "        # Close the stream (5)\n",
    "        stream.close()\n",
    "\n",
    "        # Release PortAudio system resources (6)\n",
    "        p.terminate()\n",
    "else:\n",
    "    response.raise_for_status()"
   ]
  },
  {
   "cell_type": "code",
   "execution_count": 49,
   "metadata": {},
   "outputs": [],
   "source": [
    "it = response.iter_content(chunk_size=1024)"
   ]
  },
  {
   "cell_type": "code",
   "execution_count": 50,
   "metadata": {},
   "outputs": [
    {
     "name": "stdout",
     "output_type": "stream",
     "text": [
      "b'RIFF\\xff\\xff\\xff\\xffWAVEfmt \\x10\\x00\\x00\\x00\\x01\\x00\\x01\\x00\\xc0]\\x00\\x00\\x80\\xbb\\x00\\x00\\x02\\x00\\x10\\x00data\\xff\\xff\\xff\\xff'\n"
     ]
    }
   ],
   "source": [
    "print(next(it))"
   ]
  },
  {
   "cell_type": "code",
   "execution_count": 51,
   "metadata": {},
   "outputs": [],
   "source": [
    "reader = io.BufferedReader(response.raw, buffer_size=1024)"
   ]
  },
  {
   "cell_type": "code",
   "execution_count": 53,
   "metadata": {},
   "outputs": [
    {
     "ename": "TypeError",
     "evalue": "object of type 'HTTPResponse' has no len()",
     "output_type": "error",
     "traceback": [
      "\u001b[0;31m---------------------------------------------------------------------------\u001b[0m",
      "\u001b[0;31mTypeError\u001b[0m                                 Traceback (most recent call last)",
      "Cell \u001b[0;32mIn[53], line 1\u001b[0m\n\u001b[0;32m----> 1\u001b[0m \u001b[38;5;28;43mlen\u001b[39;49m\u001b[43m(\u001b[49m\u001b[43mresponse\u001b[49m\u001b[38;5;241;43m.\u001b[39;49m\u001b[43mraw\u001b[49m\u001b[43m)\u001b[49m\n",
      "\u001b[0;31mTypeError\u001b[0m: object of type 'HTTPResponse' has no len()"
     ]
    }
   ],
   "source": [
    "reader.read()"
   ]
  },
  {
   "cell_type": "code",
   "execution_count": null,
   "metadata": {},
   "outputs": [],
   "source": [
    "\n",
    "# if response.status_code == 200:\n",
    "#     p = pyaudio.PyAudio()\n",
    "#     stream = p.open(format=8, channels=1, rate=24000, output=True)\n",
    "#     for chunk in response.iter_content(chunk_size=1024):\n",
    "#         if (len(chunk) == 44):\n",
    "#             # header chunk, skip to prevent pop\n",
    "#             continue\n",
    "#         stream.write(chunk)\n",
    "\n",
    "my_buffer = bytes()                 # \"my_buffer\" gets loaded up from the http stream\n",
    "my_1024 = bytes()                    # when \"my_buffer\" has enough, it gets sliced off into \"my_1024\"\n",
    "\n",
    "if response.status_code == 200:\n",
    "\tis_first_chunk = True\n",
    "\tstream = p.open(format=8, channels=1, rate=24000, output=True)\n",
    "\tfor chunk in response.iter_content(chunk_size=1024):\n",
    "\t\tif is_first_chunk:                                     # skip the header\n",
    "\t\t\tis_first_chunk = False\n",
    "\t\t\tcontinue\n",
    "\t\tmy_buffer += chunk\n",
    "\t\tif len(my_buffer) >= 1024:\n",
    "\t\t\tmy_1024 = my_buffer[0:1024]\n",
    "\t\t\tmy_buffer = my_buffer[1024:]\n",
    "\t\tif len(my_1024):\n",
    "\t\t\tstream.write(my_1024)\n",
    "\t\t\tmy_1024 = bytes()\n",
    "\t# if len(my_buffer):                                           # Whatever is left in my_buffer, because it will likely\n",
    "\t# \tstream.write(my_buffer)                    # be less than 1024 samples long\n",
    "\tstream.close()"
   ]
  },
  {
   "cell_type": "code",
   "execution_count": 2,
   "metadata": {},
   "outputs": [
    {
     "name": "stdout",
     "output_type": "stream",
     "text": [
      "b'Hello, W'\n",
      "b'orld!'\n"
     ]
    }
   ],
   "source": [
    "# Buffers\n",
    "import io\n",
    "\n",
    "class ByteBuffer:\n",
    "    def __init__(self, capacity):\n",
    "        self.buffer = io.BytesIO()\n",
    "        self.capacity = capacity\n",
    "\n",
    "    def write(self, data):\n",
    "        remaining_space = self.capacity - self.buffer.tell()\n",
    "        remaining_data = data\n",
    "\n",
    "        while len(remaining_data) > remaining_space:\n",
    "            self.buffer.write(remaining_data[:remaining_space])\n",
    "            self.print_and_clear()\n",
    "            remaining_data = remaining_data[remaining_space:]\n",
    "            remaining_space = self.capacity\n",
    "\n",
    "        self.buffer.write(remaining_data)\n",
    "\n",
    "    def print_and_clear(self):\n",
    "        print(self.buffer.getvalue())\n",
    "        self.buffer = io.BytesIO()\n",
    "\n",
    "# Usage:\n",
    "buf = ByteBuffer(8)\n",
    "buf.write(b\"Hello, World!\")\n",
    "buf.print_and_clear()"
   ]
  },
  {
   "cell_type": "markdown",
   "metadata": {},
   "source": [
    "### OpenAI libary"
   ]
  },
  {
   "cell_type": "code",
   "execution_count": 2,
   "metadata": {},
   "outputs": [
    {
     "name": "stderr",
     "output_type": "stream",
     "text": [
      "/var/folders/jd/59d4q_7s4tv165vsjv01sw780000gq/T/ipykernel_42093/570409869.py:10: DeprecationWarning: Due to a bug, this method doesn't actually stream the response content, `.with_streaming_response.method()` should be used instead\n",
      "  response.stream_to_file(\"speech.mp3\")\n"
     ]
    }
   ],
   "source": [
    "from openai import OpenAI\n",
    "client = OpenAI()\n",
    "\n",
    "response = client.audio.speech.create(\n",
    "  model=\"tts-1\",\n",
    "  voice=\"alloy\",\n",
    "  input=\"Today is a wonderful day to build something people love!\"\n",
    ")\n",
    "\n",
    "response.stream_to_file(\"speech.mp3\")"
   ]
  },
  {
   "cell_type": "code",
   "execution_count": 28,
   "metadata": {},
   "outputs": [
    {
     "name": "stdout",
     "output_type": "stream",
     "text": [
      "22:14:49\n"
     ]
    }
   ],
   "source": [
    "from openai import OpenAI\n",
    "\n",
    "client = OpenAI()\n",
    "\n",
    "with client.audio.speech.with_streaming_response.create(\n",
    "    model=\"tts-1\",\n",
    "    voice=\"alloy\",\n",
    "    input=\"\"\"I see skies of blue and clouds of white\n",
    "             The bright blessed days, the dark sacred nights\n",
    "             And I think to myself\n",
    "             What a wonderful world\"\"\",\n",
    ") as response:\n",
    "    # This doesn't seem to be *actually* streaming, it just creates the file\n",
    "    # and then doesn't update it until the whole generation is finished\n",
    "    response.stream_to_file(\"speech.mp3\")"
   ]
  }
 ],
 "metadata": {
  "kernelspec": {
   "display_name": "Python 3",
   "language": "python",
   "name": "python3"
  },
  "language_info": {
   "codemirror_mode": {
    "name": "ipython",
    "version": 3
   },
   "file_extension": ".py",
   "mimetype": "text/x-python",
   "name": "python",
   "nbconvert_exporter": "python",
   "pygments_lexer": "ipython3",
   "version": "3.11.6"
  }
 },
 "nbformat": 4,
 "nbformat_minor": 2
}
