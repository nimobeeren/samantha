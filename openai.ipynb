{
 "cells": [
  {
   "cell_type": "code",
   "execution_count": 2,
   "metadata": {},
   "outputs": [
    {
     "data": {
      "text/plain": [
       "True"
      ]
     },
     "execution_count": 2,
     "metadata": {},
     "output_type": "execute_result"
    }
   ],
   "source": [
    "from dotenv import load_dotenv\n",
    "load_dotenv()"
   ]
  },
  {
   "cell_type": "markdown",
   "metadata": {},
   "source": [
    "Real-time playback"
   ]
  },
  {
   "cell_type": "code",
   "execution_count": 22,
   "metadata": {},
   "outputs": [],
   "source": [
    "import os\n",
    "import wave\n",
    "from time import sleep\n",
    "\n",
    "import pyaudio\n",
    "import requests\n",
    "\n",
    "def say(input):\n",
    "\turl = \"https://api.openai.com/v1/audio/speech\"\n",
    "\theaders = {\n",
    "\t\t\"Authorization\": f'Bearer {os.getenv(\"OPENAI_API_KEY\")}',\n",
    "\t}\n",
    "\n",
    "\tdata = {\n",
    "\t\t\"model\": \"tts-1\",\n",
    "\t\t\"input\": input,\n",
    "\t\t\"voice\": \"shimmer\",\n",
    "\t\t\"response_format\": \"wav\",\n",
    "\t}\n",
    "\n",
    "\tresponse = requests.post(url, headers=headers, json=data, stream=True)\n",
    "\n",
    "\tif response.ok:\n",
    "\t\twith wave.open(response.raw, \"rb\") as wf:\n",
    "\t\t\t# Define callback for playback (1)\n",
    "\t\t\tdef callback(in_data, frame_count, time_info, status):\n",
    "\t\t\t\tdata = wf.readframes(frame_count)\n",
    "\t\t\t\t# If len(data) is less than requested frame_count, PyAudio automatically\n",
    "\t\t\t\t# assumes the stream is finished, and the stream stops.\n",
    "\t\t\t\treturn (data, pyaudio.paContinue)\n",
    "\n",
    "\t\t\n",
    "\t\t\tp = pyaudio.PyAudio()\n",
    "\t\t\tstream = p.open(\n",
    "\t\t\t\tformat=p.get_format_from_width(wf.getsampwidth()),\n",
    "\t\t\t\tchannels=wf.getnchannels(),\n",
    "\t\t\t\trate=wf.getframerate(),\n",
    "\t\t\t\toutput=True,\n",
    "\t\t\t\tstream_callback=callback,\n",
    "\t\t\t)\n",
    "\n",
    "\t\t\t# Wait for stream to finish\n",
    "\t\t\twhile stream.is_active():\n",
    "\t\t\t\tsleep(0.1)\n",
    "\t\t\tstream.close()\n",
    "\t\t\tp.terminate()\n",
    "\telse:\n",
    "\t\tresponse.raise_for_status()"
   ]
  },
  {
   "cell_type": "code",
   "execution_count": 23,
   "metadata": {},
   "outputs": [],
   "source": [
    "say(\"This is a test of the speech synthesis API\")"
   ]
  }
 ],
 "metadata": {
  "kernelspec": {
   "display_name": "Python 3",
   "language": "python",
   "name": "python3"
  },
  "language_info": {
   "codemirror_mode": {
    "name": "ipython",
    "version": 3
   },
   "file_extension": ".py",
   "mimetype": "text/x-python",
   "name": "python",
   "nbconvert_exporter": "python",
   "pygments_lexer": "ipython3",
   "version": "3.11.6"
  }
 },
 "nbformat": 4,
 "nbformat_minor": 2
}
